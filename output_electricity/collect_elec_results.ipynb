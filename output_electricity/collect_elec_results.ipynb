{
 "cells": [
  {
   "cell_type": "code",
   "execution_count": 1,
   "id": "006951e4",
   "metadata": {},
   "outputs": [],
   "source": [
    "import os\n",
    "import sys\n",
    "sys.path.append('/'.join(os.getcwd().split('/')[:-1]))\n",
    "import pandas as pd\n",
    "pd.set_option('display.precision', 3)\n",
    "import numpy as np\n",
    "import datetime\n",
    "from helpers.dm_test import dm_test"
   ]
  },
  {
   "cell_type": "code",
   "execution_count": 2,
   "id": "98ae8962",
   "metadata": {},
   "outputs": [],
   "source": [
    "methods = ['MTMFSeq2Seq', 'MTMFSeq2One', 'MLP', 'GBM']"
   ]
  },
  {
   "cell_type": "code",
   "execution_count": 3,
   "id": "7a64bac7",
   "metadata": {},
   "outputs": [],
   "source": [
    "actuals = pd.read_excel(f'../data_electricity/electricity.xlsx',sheet_name='y')\n",
    "actuals['timestamp'] = pd.to_datetime(actuals['timestamp'])"
   ]
  },
  {
   "cell_type": "code",
   "execution_count": 4,
   "id": "f2624a77",
   "metadata": {},
   "outputs": [],
   "source": [
    "df_pred = []\n",
    "for method in methods:\n",
    "    predictions = pd.read_excel(f'{method}_static/predictions.xlsx',sheet_name='y_prediction')\n",
    "    df_pred_actual = predictions.loc[predictions['variable_name']=='load_actual'].copy()\n",
    "    for step_id in [1,2,3,4]:\n",
    "        df_pred_actual['timestamp'] = df_pred_actual['prev_QE'] + datetime.timedelta(hours=step_id * 6)\n",
    "        df_pred_actual = pd.merge(df_pred_actual, actuals[['timestamp','load_actual']],on='timestamp',how='left').rename(columns={'load_actual':f'step_{step_id}_actual'})\n",
    "    df_pred_actual = df_pred_actual.drop(columns=['timestamp']).dropna()\n",
    "    df_pred_actual['method'] = method\n",
    "    df_pred.append(df_pred_actual)\n",
    "df_pred = pd.concat(df_pred)"
   ]
  },
  {
   "cell_type": "code",
   "execution_count": 5,
   "id": "b6f2c911",
   "metadata": {},
   "outputs": [],
   "source": [
    "df_pred['next_24_pred'] = np.exp(df_pred[['step_1','step_2','step_3','step_4']]).sum(axis=1)\n",
    "df_pred['next_24_actual'] = np.exp(df_pred[['step_1_actual','step_2_actual','step_3_actual','step_4_actual']]).sum(axis=1)"
   ]
  },
  {
   "cell_type": "code",
   "execution_count": 6,
   "id": "04f9ad0f",
   "metadata": {},
   "outputs": [],
   "source": [
    "df_error = df_pred[['prev_QE','method','tag']].copy()\n",
    "for step_id in [1,2,3,4]:\n",
    "    df_error[f'delta_{step_id}step'] = np.abs(np.exp(df_pred[f'step_{step_id}']) - np.exp(df_pred[f'step_{step_id}_actual']))/np.exp(df_pred[f'step_{step_id}_actual'])\n",
    "df_error['delta_24'] = np.abs(df_pred['next_24_pred'] - df_pred['next_24_actual'])/df_pred['next_24_actual']"
   ]
  },
  {
   "cell_type": "markdown",
   "id": "a5b034c4",
   "metadata": {},
   "source": [
    "### summarize"
   ]
  },
  {
   "cell_type": "code",
   "execution_count": 7,
   "id": "1e1ae5c6",
   "metadata": {},
   "outputs": [],
   "source": [
    "df_error_groupby = df_error.groupby(['method','tag']).agg({'delta_24':'mean'})"
   ]
  },
  {
   "cell_type": "code",
   "execution_count": 19,
   "id": "0f6fa85e",
   "metadata": {},
   "outputs": [],
   "source": [
    "df_error_pivot = df_error_groupby.pivot_table(index='tag',columns='method',values='delta_24') * 100\n",
    "df_error_pivot.rename(columns={'GBM':'gbm','MLP':'seq2seq','MTMFSeq2Seq':'seq2one','MTMFSeq2One':'mlp'},inplace=True)\n",
    "df_error_pivot = df_error_pivot[['seq2seq','seq2one','gbm','mlp']]\n",
    "df_error_pivot_T = df_error_pivot.T\n",
    "df_error_pivot_T.index.name = None"
   ]
  },
  {
   "cell_type": "code",
   "execution_count": 20,
   "id": "914024c8",
   "metadata": {},
   "outputs": [
    {
     "data": {
      "text/html": [
       "<div>\n",
       "<style scoped>\n",
       "    .dataframe tbody tr th:only-of-type {\n",
       "        vertical-align: middle;\n",
       "    }\n",
       "\n",
       "    .dataframe tbody tr th {\n",
       "        vertical-align: top;\n",
       "    }\n",
       "\n",
       "    .dataframe thead th {\n",
       "        text-align: right;\n",
       "    }\n",
       "</style>\n",
       "<table border=\"1\" class=\"dataframe\">\n",
       "  <thead>\n",
       "    <tr style=\"text-align: right;\">\n",
       "      <th>tag</th>\n",
       "      <th>F</th>\n",
       "      <th>N1</th>\n",
       "      <th>N2</th>\n",
       "      <th>N3</th>\n",
       "      <th>N4</th>\n",
       "      <th>N5</th>\n",
       "      <th>N6</th>\n",
       "    </tr>\n",
       "  </thead>\n",
       "  <tbody>\n",
       "    <tr>\n",
       "      <th>seq2seq</th>\n",
       "      <td>4.090</td>\n",
       "      <td>4.091</td>\n",
       "      <td>4.061</td>\n",
       "      <td>4.015</td>\n",
       "      <td>3.962</td>\n",
       "      <td>3.947</td>\n",
       "      <td>3.911</td>\n",
       "    </tr>\n",
       "    <tr>\n",
       "      <th>seq2one</th>\n",
       "      <td>4.270</td>\n",
       "      <td>4.286</td>\n",
       "      <td>4.269</td>\n",
       "      <td>4.260</td>\n",
       "      <td>4.255</td>\n",
       "      <td>4.243</td>\n",
       "      <td>4.234</td>\n",
       "    </tr>\n",
       "    <tr>\n",
       "      <th>gbm</th>\n",
       "      <td>5.366</td>\n",
       "      <td>5.356</td>\n",
       "      <td>5.358</td>\n",
       "      <td>5.355</td>\n",
       "      <td>5.343</td>\n",
       "      <td>5.328</td>\n",
       "      <td>5.323</td>\n",
       "    </tr>\n",
       "    <tr>\n",
       "      <th>mlp</th>\n",
       "      <td>4.391</td>\n",
       "      <td>4.388</td>\n",
       "      <td>4.347</td>\n",
       "      <td>4.312</td>\n",
       "      <td>4.258</td>\n",
       "      <td>4.239</td>\n",
       "      <td>4.218</td>\n",
       "    </tr>\n",
       "  </tbody>\n",
       "</table>\n",
       "</div>"
      ],
      "text/plain": [
       "tag          F     N1     N2     N3     N4     N5     N6\n",
       "seq2seq  4.090  4.091  4.061  4.015  3.962  3.947  3.911\n",
       "seq2one  4.270  4.286  4.269  4.260  4.255  4.243  4.234\n",
       "gbm      5.366  5.356  5.358  5.355  5.343  5.328  5.323\n",
       "mlp      4.391  4.388  4.347  4.312  4.258  4.239  4.218"
      ]
     },
     "execution_count": 20,
     "metadata": {},
     "output_type": "execute_result"
    }
   ],
   "source": [
    "df_error_pivot_T"
   ]
  },
  {
   "cell_type": "markdown",
   "id": "f9b4419b",
   "metadata": {},
   "source": [
    "## Diebold Mariano-Test"
   ]
  },
  {
   "cell_type": "code",
   "execution_count": 10,
   "id": "cba73227",
   "metadata": {},
   "outputs": [],
   "source": [
    "df_tag = df_pred.loc[df_pred['tag']=='F',['prev_QE','method','next_24_pred','next_24_actual']].copy().pivot_table(index='prev_QE',columns=['method'],values=['next_24_pred', 'next_24_actual'])"
   ]
  },
  {
   "cell_type": "code",
   "execution_count": 11,
   "id": "e3a198a3",
   "metadata": {},
   "outputs": [],
   "source": [
    "df_tag = df_tag[[('next_24_actual','GBM'), ('next_24_pred','GBM'),('next_24_pred','MLP'),('next_24_pred','MTMFSeq2One'),('next_24_pred', 'MTMFSeq2Seq')]]\n",
    "df_tag.columns=['actual','GBM','MTMFSeq2Seq','MLP','MTMFSeq2One']"
   ]
  },
  {
   "cell_type": "code",
   "execution_count": 12,
   "id": "f80c18a0",
   "metadata": {},
   "outputs": [
    {
     "data": {
      "text/plain": [
       "dm_return(DM=-1.6026643664858773, p_value=0.10944194317121009)"
      ]
     },
     "execution_count": 12,
     "metadata": {},
     "output_type": "execute_result"
    }
   ],
   "source": [
    "dm_test(df_tag['actual'],df_tag['MTMFSeq2Seq'],df_tag['MTMFSeq2One'],h = 1, crit=\"MAD\")"
   ]
  },
  {
   "cell_type": "code",
   "execution_count": 13,
   "id": "ab6bb1aa",
   "metadata": {},
   "outputs": [
    {
     "data": {
      "text/plain": [
       "dm_return(DM=-3.3774325494409867, p_value=0.0007705033342923344)"
      ]
     },
     "execution_count": 13,
     "metadata": {},
     "output_type": "execute_result"
    }
   ],
   "source": [
    "dm_test(df_tag['actual'],df_tag['MTMFSeq2Seq'],df_tag['MLP'],h = 1, crit=\"MAD\")"
   ]
  },
  {
   "cell_type": "code",
   "execution_count": 14,
   "id": "dce63f08",
   "metadata": {},
   "outputs": [
    {
     "data": {
      "text/plain": [
       "dm_return(DM=-10.03969249419394, p_value=2.649952374243309e-22)"
      ]
     },
     "execution_count": 14,
     "metadata": {},
     "output_type": "execute_result"
    }
   ],
   "source": [
    "dm_test(df_tag['actual'],df_tag['MTMFSeq2Seq'],df_tag['GBM'],h = 1, crit=\"MAD\")"
   ]
  },
  {
   "cell_type": "code",
   "execution_count": null,
   "id": "38f9f64e",
   "metadata": {},
   "outputs": [],
   "source": []
  }
 ],
 "metadata": {
  "kernelspec": {
   "display_name": "Python 3 (ipykernel)",
   "language": "python",
   "name": "python3"
  },
  "language_info": {
   "codemirror_mode": {
    "name": "ipython",
    "version": 3
   },
   "file_extension": ".py",
   "mimetype": "text/x-python",
   "name": "python",
   "nbconvert_exporter": "python",
   "pygments_lexer": "ipython3",
   "version": "3.9.16"
  }
 },
 "nbformat": 4,
 "nbformat_minor": 5
}
