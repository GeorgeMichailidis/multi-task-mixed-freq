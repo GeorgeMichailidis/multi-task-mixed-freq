{
 "cells": [
  {
   "cell_type": "markdown",
   "id": "f90e7040-419f-4ea1-8948-0b4b7af8d89f",
   "metadata": {},
   "source": [
    "**Script for collecting python-based run results**"
   ]
  },
  {
   "cell_type": "code",
   "execution_count": null,
   "id": "2aedd749-59c0-46f8-a017-9bc49194dad9",
   "metadata": {},
   "outputs": [],
   "source": [
    "import pandas as pd\n",
    "pd.set_option('display.precision', 2)\n",
    "\n",
    "import numpy as np\n",
    "import datetime as dt\n",
    "import copy\n",
    "import glob\n",
    "import os"
   ]
  },
  {
   "cell_type": "markdown",
   "id": "d1d8120f",
   "metadata": {},
   "source": [
    "**Valid setting-id:**\n",
    "* state-space models: ss00_1001, ss01_2002, ss02_3003\n",
    "* regression models: regr01_4004, regr02_5005"
   ]
  },
  {
   "cell_type": "code",
   "execution_count": null,
   "id": "458b286b",
   "metadata": {},
   "outputs": [],
   "source": [
    "setting_id = 'ss00_1001'"
   ]
  },
  {
   "cell_type": "code",
   "execution_count": null,
   "id": "55510810-f72e-44fa-84ba-afa2de069d2e",
   "metadata": {},
   "outputs": [],
   "source": [
    "sample_sizes = [500, 1000, 3000]\n",
    "models = ['MTMFSeq2Seq','MTMFSeq2One','transformer','MLP','GBM','DeepAR','NHiTS','ARIMA','SES','Naive']"
   ]
  },
  {
   "cell_type": "markdown",
   "id": "9d8733ba-5190-460c-a242-dfe1e838bb0d",
   "metadata": {},
   "source": [
    "**collect raw error metrics that are saved during model training and forecasting**"
   ]
  },
  {
   "cell_type": "code",
   "execution_count": null,
   "id": "a2928222-a4c3-4094-a166-33dcf93c49a0",
   "metadata": {},
   "outputs": [],
   "source": [
    "x_err_list, y_err_list, tags = [], [], ['F','N1','N2','N3']\n",
    "\n",
    "for model in models:\n",
    "    for sample_size in sample_sizes:        \n",
    "        ## gather the raw error\n",
    "        filename = f'{setting_id}/{model}_{sample_size}/forecast_err.xlsx'\n",
    "        \n",
    "        xerr = pd.read_excel(filename,sheet_name = 'summary_x_err',index_col=0)\n",
    "        xerr.index.name = 'step'\n",
    "        xerr.reset_index(inplace=True)\n",
    "        xerr['sample_size'] = sample_size\n",
    "        xerr['model'] = model\n",
    "        \n",
    "        yerr = pd.read_excel(filename,sheet_name = 'summary_y_err',index_col=0)\n",
    "        yerr.index.name = 'step'\n",
    "        yerr.reset_index(inplace=True)\n",
    "        yerr['sample_size'] = sample_size\n",
    "        yerr['model'] = model\n",
    "        \n",
    "        x_err_list.append(xerr)\n",
    "        y_err_list.append(yerr)\n",
    "\n",
    "x_err = pd.concat(x_err_list)\n",
    "y_err = pd.concat(y_err_list)"
   ]
  },
  {
   "cell_type": "code",
   "execution_count": null,
   "id": "edfa068f-a3cb-474f-bbe6-60e3cd8f392a",
   "metadata": {},
   "outputs": [],
   "source": [
    "x_err = pd.melt(x_err, id_vars=['step','metric','model','sample_size'], value_vars=['F','N1','N2','N3'])\n",
    "x_err.columns=['step','metric','model','sample_size','vintage','value']\n",
    "x_err['step'] = x_err['step'].map({step_i: int(step_i.split('_')[1]) for step_i in x_err['step'].unique()})"
   ]
  },
  {
   "cell_type": "code",
   "execution_count": null,
   "id": "458722b6-e14d-441c-bc7a-837292940c5e",
   "metadata": {},
   "outputs": [],
   "source": [
    "y_err = pd.melt(y_err, id_vars=['step','metric','model','sample_size'], value_vars=['F','N1','N2','N3'])\n",
    "y_err.columns=['step','metric','model','sample_size','vintage','value']\n",
    "y_err['step'] = y_err['step'].map({step_i: int(step_i.split('_')[1]) for step_i in y_err['step'].unique()})"
   ]
  },
  {
   "cell_type": "code",
   "execution_count": null,
   "id": "3020b768",
   "metadata": {},
   "outputs": [],
   "source": [
    "hf_model_set, lf_model_set = list(x_err['model'].unique()), list(y_err['model'].unique())"
   ]
  },
  {
   "cell_type": "markdown",
   "id": "1e5cec07",
   "metadata": {},
   "source": [
    "**normalize the errors by that of simple exponential smoother**"
   ]
  },
  {
   "cell_type": "code",
   "execution_count": null,
   "id": "83b70b6d",
   "metadata": {},
   "outputs": [],
   "source": [
    "x_err = pd.pivot_table(x_err, values='value', index=['metric','vintage', 'sample_size','step'],columns=['model'])\n",
    "x_err = x_err[hf_model_set].reset_index(['metric','vintage','sample_size','step'])\n",
    "\n",
    "x_err_ratio = copy.deepcopy(x_err)\n",
    "for col in hf_model_set:\n",
    "    x_err_ratio[col] = x_err[col]/x_err['SES']"
   ]
  },
  {
   "cell_type": "code",
   "execution_count": null,
   "id": "406b474b",
   "metadata": {},
   "outputs": [],
   "source": [
    "y_err = pd.pivot_table(y_err, values='value', index=['metric','vintage', 'sample_size','step'],columns=['model'])\n",
    "y_err = y_err[lf_model_set].reset_index(['metric','vintage','sample_size','step'])\n",
    "\n",
    "y_err_ratio = copy.deepcopy(y_err)\n",
    "for col in lf_model_set:\n",
    "    y_err_ratio[col] = y_err[col]/y_err['SES']"
   ]
  },
  {
   "cell_type": "markdown",
   "id": "7362f1c3-c323-4f3e-bbae-f9939cd90703",
   "metadata": {},
   "source": [
    "**subset to only show those reported in the paper and rename columns**"
   ]
  },
  {
   "cell_type": "code",
   "execution_count": null,
   "id": "f89fca38-1c20-4b49-9386-e29b946a1b64",
   "metadata": {},
   "outputs": [],
   "source": [
    "## get the name that was used in the paper\n",
    "name_map = {'MTMFSeq2Seq':'seq2seq',\n",
    "            'MTMFSeq2One':'seq2one',\n",
    "            'transformer':'transf',\n",
    "            'MLP':'mlp',\n",
    "            'GBM':'gbm',\n",
    "            'DeepAR':'deepvar',\n",
    "            'NHiTS':'nhits',\n",
    "            'ARIMA':'arima',\n",
    "            'SES':'ses',\n",
    "            'Naive':'naive'}\n",
    "\n",
    "df_x = x_err_ratio.loc[(x_err_ratio['metric']=='median') & (x_err_ratio['step']==4)].copy().drop(columns=['metric','step']).reset_index(drop=True)\n",
    "df_x.rename(columns=name_map,inplace=True)\n",
    "\n",
    "df_y = y_err_ratio.loc[(y_err_ratio['metric']=='median') & (y_err_ratio['step']==1)].copy().drop(columns=['metric','step']).reset_index(drop=True)\n",
    "df_y.rename(columns=name_map,inplace=True)"
   ]
  },
  {
   "cell_type": "code",
   "execution_count": null,
   "id": "427e2080-861b-4a92-b6a6-f82caccb877e",
   "metadata": {},
   "outputs": [],
   "source": [
    "## ensure they are displayed in a particular order\n",
    "ordered_models = ['seq2seq','transf','seq2one','gbm','mlp','deepvar','nhits','naive','ses']\n",
    "\n",
    "df_xT = df_x.sort_values(by=['sample_size']).set_index(['sample_size','vintage'])[ordered_models].T\n",
    "df_xT.index.name = None\n",
    "df_yT = df_y.sort_values(by=['sample_size']).set_index(['sample_size','vintage'])[ordered_models].T\n",
    "df_yT.index.name = None"
   ]
  },
  {
   "cell_type": "markdown",
   "id": "867ebbf0",
   "metadata": {},
   "source": [
    "**export results to excel**"
   ]
  },
  {
   "cell_type": "code",
   "execution_count": null,
   "id": "b51dcc69",
   "metadata": {},
   "outputs": [],
   "source": [
    "with pd.ExcelWriter(f'{setting_id.split(\"_\")[0]}_report.xlsx') as writer:\n",
    "    df_xT.to_excel(writer,sheet_name='x1_err_ratio',index=True)\n",
    "    df_yT.to_excel(writer,sheet_name='y4_err_ratio',index=True)\n",
    "    \n",
    "print(f'{setting_id.split(\"_\")[0]}_report.xlsx on {dt.datetime.now().strftime(\"%Y-%m-%d %H:%M:%S\")}')"
   ]
  },
  {
   "cell_type": "code",
   "execution_count": null,
   "id": "ce7de665-2e65-43c8-b016-7fbcf0bd6348",
   "metadata": {},
   "outputs": [],
   "source": []
  }
 ],
 "metadata": {
  "kernelspec": {
   "display_name": "Python 3 (ipykernel)",
   "language": "python",
   "name": "python3"
  },
  "language_info": {
   "codemirror_mode": {
    "name": "ipython",
    "version": 3
   },
   "file_extension": ".py",
   "mimetype": "text/x-python",
   "name": "python",
   "nbconvert_exporter": "python",
   "pygments_lexer": "ipython3",
   "version": "3.9.16"
  }
 },
 "nbformat": 4,
 "nbformat_minor": 5
}
